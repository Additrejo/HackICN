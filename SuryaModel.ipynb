{
  "nbformat": 4,
  "nbformat_minor": 0,
  "metadata": {
    "colab": {
      "provenance": [],
      "gpuType": "T4",
      "authorship_tag": "ABX9TyOnVOByVFbJ2wk49VzTkGCc",
      "include_colab_link": true
    },
    "kernelspec": {
      "name": "python3",
      "display_name": "Python 3"
    },
    "language_info": {
      "name": "python"
    },
    "accelerator": "GPU"
  },
  "cells": [
    {
      "cell_type": "markdown",
      "metadata": {
        "id": "view-in-github",
        "colab_type": "text"
      },
      "source": [
        "<a href=\"https://colab.research.google.com/github/Additrejo/HackICN/blob/main/SuryaModel.ipynb\" target=\"_parent\"><img src=\"https://colab.research.google.com/assets/colab-badge.svg\" alt=\"Open In Colab\"/></a>"
      ]
    },
    {
      "cell_type": "code",
      "execution_count": 1,
      "metadata": {
        "colab": {
          "base_uri": "https://localhost:8080/"
        },
        "id": "bSr0K7DMo9wX",
        "outputId": "bd666ce1-4f0e-49b8-f854-96324da35ae5"
      },
      "outputs": [
        {
          "output_type": "stream",
          "name": "stdout",
          "text": [
            "Cloning into 'Surya'...\n",
            "remote: Enumerating objects: 503, done.\u001b[K\n",
            "remote: Counting objects: 100% (214/214), done.\u001b[K\n",
            "remote: Compressing objects: 100% (112/112), done.\u001b[K\n",
            "remote: Total 503 (delta 135), reused 132 (delta 102), pack-reused 289 (from 1)\u001b[K\n",
            "Receiving objects: 100% (503/503), 14.93 MiB | 20.14 MiB/s, done.\n",
            "Resolving deltas: 100% (306/306), done.\n"
          ]
        }
      ],
      "source": [
        "!git clone https://github.com/NASA-IMPACT/Surya.git"
      ]
    },
    {
      "cell_type": "code",
      "source": [
        "%cd Surya"
      ],
      "metadata": {
        "colab": {
          "base_uri": "https://localhost:8080/"
        },
        "id": "SubIMhqLrA5_",
        "outputId": "5bd9983e-04d3-4c0b-d49f-306c3bc54e65"
      },
      "execution_count": 4,
      "outputs": [
        {
          "output_type": "stream",
          "name": "stdout",
          "text": [
            "/content/Surya\n"
          ]
        }
      ]
    },
    {
      "cell_type": "code",
      "source": [
        "!curl -LsSf https://astral.sh/uv/install.sh | sh"
      ],
      "metadata": {
        "colab": {
          "base_uri": "https://localhost:8080/"
        },
        "id": "w6X8a1cdrEvz",
        "outputId": "d65d1ae3-af21-480e-e95b-d90757031971"
      },
      "execution_count": 5,
      "outputs": [
        {
          "output_type": "stream",
          "name": "stdout",
          "text": [
            "downloading uv 0.9.2 x86_64-unknown-linux-gnu\n",
            "no checksums to verify\n",
            "installing to /usr/local/bin\n",
            "  uv\n",
            "  uvx\n",
            "everything's installed!\n"
          ]
        }
      ]
    },
    {
      "cell_type": "code",
      "source": [
        "!/root/.local/bin/uv sync"
      ],
      "metadata": {
        "colab": {
          "base_uri": "https://localhost:8080/"
        },
        "id": "OGpIzvPlrMOh",
        "outputId": "435d9320-2486-4da3-dd11-53772dfdc882"
      },
      "execution_count": 6,
      "outputs": [
        {
          "output_type": "stream",
          "name": "stdout",
          "text": [
            "/bin/bash: line 1: /root/.local/bin/uv: No such file or directory\n"
          ]
        }
      ]
    },
    {
      "cell_type": "code",
      "source": [
        "!.venv/bin/python -m pytest -s -o log_cli=true tests/test_surya.py"
      ],
      "metadata": {
        "colab": {
          "base_uri": "https://localhost:8080/"
        },
        "id": "EGnajAslrStw",
        "outputId": "33594529-d55e-429a-ea15-2c468496be8e"
      },
      "execution_count": 7,
      "outputs": [
        {
          "output_type": "stream",
          "name": "stdout",
          "text": [
            "/bin/bash: line 1: .venv/bin/python: No such file or directory\n"
          ]
        }
      ]
    },
    {
      "cell_type": "code",
      "source": [
        "!find / -name \"uv\" 2>/dev/null"
      ],
      "metadata": {
        "colab": {
          "base_uri": "https://localhost:8080/"
        },
        "id": "y9zKZyCxrzcu",
        "outputId": "e5197704-b8c4-4612-9dbb-c235a9345204"
      },
      "execution_count": 8,
      "outputs": [
        {
          "output_type": "stream",
          "name": "stdout",
          "text": [
            "/usr/local/bin/uv\n",
            "/usr/local/include/julia/uv\n",
            "/usr/local/lib/python3.12/dist-packages/torch/include/tensorpipe/transport/uv\n",
            "/usr/src/linux-headers-5.15.0-157/arch/x86/include/asm/uv\n",
            "/usr/src/linux-headers-5.15.0-157/arch/x86/platform/uv\n",
            "/usr/src/linux-headers-5.15.0-157/arch/ia64/uv\n",
            "/usr/src/linux-headers-5.15.0-157/arch/ia64/include/asm/uv\n",
            "/root/.config/uv\n",
            "/root/.local/share/uv\n",
            "/root/.cache/node-gyp/20.19.0/include/node/uv\n",
            "/tools/node/include/node/uv\n"
          ]
        }
      ]
    },
    {
      "cell_type": "code",
      "source": [
        "!/usr/local/bin/uv sync"
      ],
      "metadata": {
        "colab": {
          "base_uri": "https://localhost:8080/"
        },
        "id": "KCnVuVRssAjI",
        "outputId": "3cb2bddf-2de1-4898-8904-cc9eb1451de3"
      },
      "execution_count": 9,
      "outputs": [
        {
          "output_type": "stream",
          "name": "stdout",
          "text": [
            "Using CPython 3.12.11 interpreter at: \u001b[36m/usr/bin/python3\u001b[39m\n",
            "Creating virtual environment at: \u001b[36m.venv\u001b[39m\n",
            "\u001b[2mResolved \u001b[1m230 packages\u001b[0m \u001b[2min 1ms\u001b[0m\u001b[0m\n",
            "\u001b[2K\u001b[2mPrepared \u001b[1m126 packages\u001b[0m \u001b[2min 1m 13s\u001b[0m\u001b[0m\n",
            "\u001b[2K\u001b[2mInstalled \u001b[1m126 packages\u001b[0m \u001b[2min 1.39s\u001b[0m\u001b[0m\n",
            " \u001b[32m+\u001b[39m \u001b[1maccelerate\u001b[0m\u001b[2m==1.10.0\u001b[0m\n",
            " \u001b[32m+\u001b[39m \u001b[1maioftp\u001b[0m\u001b[2m==0.26.2\u001b[0m\n",
            " \u001b[32m+\u001b[39m \u001b[1maiohappyeyeballs\u001b[0m\u001b[2m==2.6.1\u001b[0m\n",
            " \u001b[32m+\u001b[39m \u001b[1maiohttp\u001b[0m\u001b[2m==3.12.15\u001b[0m\n",
            " \u001b[32m+\u001b[39m \u001b[1maiosignal\u001b[0m\u001b[2m==1.4.0\u001b[0m\n",
            " \u001b[32m+\u001b[39m \u001b[1mannotated-types\u001b[0m\u001b[2m==0.7.0\u001b[0m\n",
            " \u001b[32m+\u001b[39m \u001b[1mastropy\u001b[0m\u001b[2m==7.1.0\u001b[0m\n",
            " \u001b[32m+\u001b[39m \u001b[1mastropy-iers-data\u001b[0m\u001b[2m==0.2025.8.11.0.41.9\u001b[0m\n",
            " \u001b[32m+\u001b[39m \u001b[1masttokens\u001b[0m\u001b[2m==3.0.0\u001b[0m\n",
            " \u001b[32m+\u001b[39m \u001b[1mattrs\u001b[0m\u001b[2m==25.3.0\u001b[0m\n",
            " \u001b[32m+\u001b[39m \u001b[1mcertifi\u001b[0m\u001b[2m==2025.8.3\u001b[0m\n",
            " \u001b[32m+\u001b[39m \u001b[1mcharset-normalizer\u001b[0m\u001b[2m==3.4.3\u001b[0m\n",
            " \u001b[32m+\u001b[39m \u001b[1mclick\u001b[0m\u001b[2m==8.2.1\u001b[0m\n",
            " \u001b[32m+\u001b[39m \u001b[1mcomm\u001b[0m\u001b[2m==0.2.3\u001b[0m\n",
            " \u001b[32m+\u001b[39m \u001b[1mcontourpy\u001b[0m\u001b[2m==1.3.3\u001b[0m\n",
            " \u001b[32m+\u001b[39m \u001b[1mcycler\u001b[0m\u001b[2m==0.12.1\u001b[0m\n",
            " \u001b[32m+\u001b[39m \u001b[1mdebugpy\u001b[0m\u001b[2m==1.8.16\u001b[0m\n",
            " \u001b[32m+\u001b[39m \u001b[1mdecorator\u001b[0m\u001b[2m==5.2.1\u001b[0m\n",
            " \u001b[32m+\u001b[39m \u001b[1meinops\u001b[0m\u001b[2m==0.8.1\u001b[0m\n",
            " \u001b[32m+\u001b[39m \u001b[1mexecuting\u001b[0m\u001b[2m==2.2.0\u001b[0m\n",
            " \u001b[32m+\u001b[39m \u001b[1mfilelock\u001b[0m\u001b[2m==3.19.1\u001b[0m\n",
            " \u001b[32m+\u001b[39m \u001b[1mfonttools\u001b[0m\u001b[2m==4.59.1\u001b[0m\n",
            " \u001b[32m+\u001b[39m \u001b[1mfrozenlist\u001b[0m\u001b[2m==1.7.0\u001b[0m\n",
            " \u001b[32m+\u001b[39m \u001b[1mfsspec\u001b[0m\u001b[2m==2025.7.0\u001b[0m\n",
            " \u001b[32m+\u001b[39m \u001b[1mgitdb\u001b[0m\u001b[2m==4.0.12\u001b[0m\n",
            " \u001b[32m+\u001b[39m \u001b[1mgitpython\u001b[0m\u001b[2m==3.1.45\u001b[0m\n",
            " \u001b[32m+\u001b[39m \u001b[1mh5netcdf\u001b[0m\u001b[2m==1.6.4\u001b[0m\n",
            " \u001b[32m+\u001b[39m \u001b[1mh5py\u001b[0m\u001b[2m==3.14.0\u001b[0m\n",
            " \u001b[32m+\u001b[39m \u001b[1mhdf5plugin\u001b[0m\u001b[2m==5.1.0\u001b[0m\n",
            " \u001b[32m+\u001b[39m \u001b[1mhf-transfer\u001b[0m\u001b[2m==0.1.9\u001b[0m\n",
            " \u001b[32m+\u001b[39m \u001b[1mhf-xet\u001b[0m\u001b[2m==1.1.7\u001b[0m\n",
            " \u001b[32m+\u001b[39m \u001b[1mhuggingface-hub\u001b[0m\u001b[2m==0.34.4\u001b[0m\n",
            " \u001b[32m+\u001b[39m \u001b[1midna\u001b[0m\u001b[2m==3.10\u001b[0m\n",
            " \u001b[32m+\u001b[39m \u001b[1mimageio\u001b[0m\u001b[2m==2.37.0\u001b[0m\n",
            " \u001b[32m+\u001b[39m \u001b[1miniconfig\u001b[0m\u001b[2m==2.1.0\u001b[0m\n",
            " \u001b[32m+\u001b[39m \u001b[1mipykernel\u001b[0m\u001b[2m==6.30.1\u001b[0m\n",
            " \u001b[32m+\u001b[39m \u001b[1mipython\u001b[0m\u001b[2m==9.4.0\u001b[0m\n",
            " \u001b[32m+\u001b[39m \u001b[1mipython-pygments-lexers\u001b[0m\u001b[2m==1.1.1\u001b[0m\n",
            " \u001b[32m+\u001b[39m \u001b[1mjedi\u001b[0m\u001b[2m==0.19.2\u001b[0m\n",
            " \u001b[32m+\u001b[39m \u001b[1mjinja2\u001b[0m\u001b[2m==3.1.6\u001b[0m\n",
            " \u001b[32m+\u001b[39m \u001b[1mjupyter-client\u001b[0m\u001b[2m==8.6.3\u001b[0m\n",
            " \u001b[32m+\u001b[39m \u001b[1mjupyter-core\u001b[0m\u001b[2m==5.8.1\u001b[0m\n",
            " \u001b[32m+\u001b[39m \u001b[1mkiwisolver\u001b[0m\u001b[2m==1.4.9\u001b[0m\n",
            " \u001b[32m+\u001b[39m \u001b[1mlazy-loader\u001b[0m\u001b[2m==0.4\u001b[0m\n",
            " \u001b[32m+\u001b[39m \u001b[1mllvmlite\u001b[0m\u001b[2m==0.44.0\u001b[0m\n",
            " \u001b[32m+\u001b[39m \u001b[1mmarkupsafe\u001b[0m\u001b[2m==3.0.2\u001b[0m\n",
            " \u001b[32m+\u001b[39m \u001b[1mmatplotlib\u001b[0m\u001b[2m==3.10.5\u001b[0m\n",
            " \u001b[32m+\u001b[39m \u001b[1mmatplotlib-inline\u001b[0m\u001b[2m==0.1.7\u001b[0m\n",
            " \u001b[32m+\u001b[39m \u001b[1mmpl-animators\u001b[0m\u001b[2m==1.2.4\u001b[0m\n",
            " \u001b[32m+\u001b[39m \u001b[1mmpmath\u001b[0m\u001b[2m==1.3.0\u001b[0m\n",
            " \u001b[32m+\u001b[39m \u001b[1mmultidict\u001b[0m\u001b[2m==6.6.4\u001b[0m\n",
            " \u001b[32m+\u001b[39m \u001b[1mnest-asyncio\u001b[0m\u001b[2m==1.6.0\u001b[0m\n",
            " \u001b[32m+\u001b[39m \u001b[1mnetworkx\u001b[0m\u001b[2m==3.5\u001b[0m\n",
            " \u001b[32m+\u001b[39m \u001b[1mnumba\u001b[0m\u001b[2m==0.61.2\u001b[0m\n",
            " \u001b[32m+\u001b[39m \u001b[1mnumpy\u001b[0m\u001b[2m==2.2.6\u001b[0m\n",
            " \u001b[32m+\u001b[39m \u001b[1mnvidia-cublas-cu12\u001b[0m\u001b[2m==12.6.4.1\u001b[0m\n",
            " \u001b[32m+\u001b[39m \u001b[1mnvidia-cuda-cupti-cu12\u001b[0m\u001b[2m==12.6.80\u001b[0m\n",
            " \u001b[32m+\u001b[39m \u001b[1mnvidia-cuda-nvrtc-cu12\u001b[0m\u001b[2m==12.6.77\u001b[0m\n",
            " \u001b[32m+\u001b[39m \u001b[1mnvidia-cuda-runtime-cu12\u001b[0m\u001b[2m==12.6.77\u001b[0m\n",
            " \u001b[32m+\u001b[39m \u001b[1mnvidia-cudnn-cu12\u001b[0m\u001b[2m==9.10.2.21\u001b[0m\n",
            " \u001b[32m+\u001b[39m \u001b[1mnvidia-cufft-cu12\u001b[0m\u001b[2m==11.3.0.4\u001b[0m\n",
            " \u001b[32m+\u001b[39m \u001b[1mnvidia-cufile-cu12\u001b[0m\u001b[2m==1.11.1.6\u001b[0m\n",
            " \u001b[32m+\u001b[39m \u001b[1mnvidia-curand-cu12\u001b[0m\u001b[2m==10.3.7.77\u001b[0m\n",
            " \u001b[32m+\u001b[39m \u001b[1mnvidia-cusolver-cu12\u001b[0m\u001b[2m==11.7.1.2\u001b[0m\n",
            " \u001b[32m+\u001b[39m \u001b[1mnvidia-cusparse-cu12\u001b[0m\u001b[2m==12.5.4.2\u001b[0m\n",
            " \u001b[32m+\u001b[39m \u001b[1mnvidia-cusparselt-cu12\u001b[0m\u001b[2m==0.7.1\u001b[0m\n",
            " \u001b[32m+\u001b[39m \u001b[1mnvidia-nccl-cu12\u001b[0m\u001b[2m==2.27.3\u001b[0m\n",
            " \u001b[32m+\u001b[39m \u001b[1mnvidia-nvjitlink-cu12\u001b[0m\u001b[2m==12.6.85\u001b[0m\n",
            " \u001b[32m+\u001b[39m \u001b[1mnvidia-nvtx-cu12\u001b[0m\u001b[2m==12.6.77\u001b[0m\n",
            " \u001b[32m+\u001b[39m \u001b[1mpackaging\u001b[0m\u001b[2m==25.0\u001b[0m\n",
            " \u001b[32m+\u001b[39m \u001b[1mpandas\u001b[0m\u001b[2m==2.3.1\u001b[0m\n",
            " \u001b[32m+\u001b[39m \u001b[1mparfive\u001b[0m\u001b[2m==2.2.0\u001b[0m\n",
            " \u001b[32m+\u001b[39m \u001b[1mparso\u001b[0m\u001b[2m==0.8.4\u001b[0m\n",
            " \u001b[32m+\u001b[39m \u001b[1mpeft\u001b[0m\u001b[2m==0.17.0\u001b[0m\n",
            " \u001b[32m+\u001b[39m \u001b[1mpexpect\u001b[0m\u001b[2m==4.9.0\u001b[0m\n",
            " \u001b[32m+\u001b[39m \u001b[1mpillow\u001b[0m\u001b[2m==11.3.0\u001b[0m\n",
            " \u001b[32m+\u001b[39m \u001b[1mplatformdirs\u001b[0m\u001b[2m==4.3.8\u001b[0m\n",
            " \u001b[32m+\u001b[39m \u001b[1mpluggy\u001b[0m\u001b[2m==1.6.0\u001b[0m\n",
            " \u001b[32m+\u001b[39m \u001b[1mprompt-toolkit\u001b[0m\u001b[2m==3.0.51\u001b[0m\n",
            " \u001b[32m+\u001b[39m \u001b[1mpropcache\u001b[0m\u001b[2m==0.3.2\u001b[0m\n",
            " \u001b[32m+\u001b[39m \u001b[1mprotobuf\u001b[0m\u001b[2m==6.32.0\u001b[0m\n",
            " \u001b[32m+\u001b[39m \u001b[1mpsutil\u001b[0m\u001b[2m==7.0.0\u001b[0m\n",
            " \u001b[32m+\u001b[39m \u001b[1mptyprocess\u001b[0m\u001b[2m==0.7.0\u001b[0m\n",
            " \u001b[32m+\u001b[39m \u001b[1mpure-eval\u001b[0m\u001b[2m==0.2.3\u001b[0m\n",
            " \u001b[32m+\u001b[39m \u001b[1mpydantic\u001b[0m\u001b[2m==2.11.7\u001b[0m\n",
            " \u001b[32m+\u001b[39m \u001b[1mpydantic-core\u001b[0m\u001b[2m==2.33.2\u001b[0m\n",
            " \u001b[32m+\u001b[39m \u001b[1mpyerfa\u001b[0m\u001b[2m==2.0.1.5\u001b[0m\n",
            " \u001b[32m+\u001b[39m \u001b[1mpygments\u001b[0m\u001b[2m==2.19.2\u001b[0m\n",
            " \u001b[32m+\u001b[39m \u001b[1mpyparsing\u001b[0m\u001b[2m==3.2.3\u001b[0m\n",
            " \u001b[32m+\u001b[39m \u001b[1mpytest\u001b[0m\u001b[2m==8.4.1\u001b[0m\n",
            " \u001b[32m+\u001b[39m \u001b[1mpython-dateutil\u001b[0m\u001b[2m==2.9.0.post0\u001b[0m\n",
            " \u001b[32m+\u001b[39m \u001b[1mpytz\u001b[0m\u001b[2m==2025.2\u001b[0m\n",
            " \u001b[32m+\u001b[39m \u001b[1mpyyaml\u001b[0m\u001b[2m==6.0.2\u001b[0m\n",
            " \u001b[32m+\u001b[39m \u001b[1mpyzmq\u001b[0m\u001b[2m==27.0.1\u001b[0m\n",
            " \u001b[32m+\u001b[39m \u001b[1mregex\u001b[0m\u001b[2m==2025.7.34\u001b[0m\n",
            " \u001b[32m+\u001b[39m \u001b[1mrequests\u001b[0m\u001b[2m==2.32.4\u001b[0m\n",
            " \u001b[32m+\u001b[39m \u001b[1msafetensors\u001b[0m\u001b[2m==0.6.2\u001b[0m\n",
            " \u001b[32m+\u001b[39m \u001b[1mscikit-image\u001b[0m\u001b[2m==0.25.2\u001b[0m\n",
            " \u001b[32m+\u001b[39m \u001b[1mscipy\u001b[0m\u001b[2m==1.16.1\u001b[0m\n",
            " \u001b[32m+\u001b[39m \u001b[1msentry-sdk\u001b[0m\u001b[2m==2.35.0\u001b[0m\n",
            " \u001b[32m+\u001b[39m \u001b[1msetuptools\u001b[0m\u001b[2m==80.9.0\u001b[0m\n",
            " \u001b[32m+\u001b[39m \u001b[1msix\u001b[0m\u001b[2m==1.17.0\u001b[0m\n",
            " \u001b[32m+\u001b[39m \u001b[1msmmap\u001b[0m\u001b[2m==5.0.2\u001b[0m\n",
            " \u001b[32m+\u001b[39m \u001b[1mstack-data\u001b[0m\u001b[2m==0.6.3\u001b[0m\n",
            " \u001b[32m+\u001b[39m \u001b[1msunpy\u001b[0m\u001b[2m==7.0.1\u001b[0m\n",
            " \u001b[32m+\u001b[39m \u001b[1msurya\u001b[0m\u001b[2m==0.1.0 (from file:///content/Surya)\u001b[0m\n",
            " \u001b[32m+\u001b[39m \u001b[1msympy\u001b[0m\u001b[2m==1.14.0\u001b[0m\n",
            " \u001b[32m+\u001b[39m \u001b[1mtifffile\u001b[0m\u001b[2m==2025.6.11\u001b[0m\n",
            " \u001b[32m+\u001b[39m \u001b[1mtimm\u001b[0m\u001b[2m==1.0.19\u001b[0m\n",
            " \u001b[32m+\u001b[39m \u001b[1mtokenizers\u001b[0m\u001b[2m==0.21.4\u001b[0m\n",
            " \u001b[32m+\u001b[39m \u001b[1mtorch\u001b[0m\u001b[2m==2.8.0+cu126\u001b[0m\n",
            " \u001b[32m+\u001b[39m \u001b[1mtorchaudio\u001b[0m\u001b[2m==2.8.0+cu126\u001b[0m\n",
            " \u001b[32m+\u001b[39m \u001b[1mtorchvision\u001b[0m\u001b[2m==0.23.0+cu126\u001b[0m\n",
            " \u001b[32m+\u001b[39m \u001b[1mtornado\u001b[0m\u001b[2m==6.5.2\u001b[0m\n",
            " \u001b[32m+\u001b[39m \u001b[1mtqdm\u001b[0m\u001b[2m==4.67.1\u001b[0m\n",
            " \u001b[32m+\u001b[39m \u001b[1mtraitlets\u001b[0m\u001b[2m==5.14.3\u001b[0m\n",
            " \u001b[32m+\u001b[39m \u001b[1mtransformers\u001b[0m\u001b[2m==4.55.2\u001b[0m\n",
            " \u001b[32m+\u001b[39m \u001b[1mtriton\u001b[0m\u001b[2m==3.4.0\u001b[0m\n",
            " \u001b[32m+\u001b[39m \u001b[1mtyping-extensions\u001b[0m\u001b[2m==4.14.1\u001b[0m\n",
            " \u001b[32m+\u001b[39m \u001b[1mtyping-inspection\u001b[0m\u001b[2m==0.4.1\u001b[0m\n",
            " \u001b[32m+\u001b[39m \u001b[1mtzdata\u001b[0m\u001b[2m==2025.2\u001b[0m\n",
            " \u001b[32m+\u001b[39m \u001b[1murllib3\u001b[0m\u001b[2m==2.5.0\u001b[0m\n",
            " \u001b[32m+\u001b[39m \u001b[1mwandb\u001b[0m\u001b[2m==0.21.1\u001b[0m\n",
            " \u001b[32m+\u001b[39m \u001b[1mwcwidth\u001b[0m\u001b[2m==0.2.13\u001b[0m\n",
            " \u001b[32m+\u001b[39m \u001b[1mxarray\u001b[0m\u001b[2m==2025.8.0\u001b[0m\n",
            " \u001b[32m+\u001b[39m \u001b[1myarl\u001b[0m\u001b[2m==1.20.1\u001b[0m\n"
          ]
        }
      ]
    },
    {
      "cell_type": "code",
      "source": [
        "!.venv/bin/python -m pytest -s -o log_cli=true tests/test_surya.py"
      ],
      "metadata": {
        "colab": {
          "base_uri": "https://localhost:8080/"
        },
        "id": "dypE8Wqos_7R",
        "outputId": "cf268b89-a305-4b96-d45e-f603f6e23fea"
      },
      "execution_count": 5,
      "outputs": [
        {
          "output_type": "stream",
          "name": "stdout",
          "text": [
            "\u001b[1m============================= test session starts ==============================\u001b[0m\n",
            "platform linux -- Python 3.12.11, pytest-8.4.1, pluggy-1.6.0 -- /content/Surya/.venv/bin/python\n",
            "cachedir: .pytest_cache\n",
            "rootdir: /content/Surya\n",
            "configfile: pyproject.toml\n",
            "collected 1 item                                                               \u001b[0m\n",
            "\n",
            "Fetching 3 files: 100% 3/3 [00:00<00:00, 1381.07it/s]\n",
            "Fetching 23 files: 100% 23/23 [00:00<00:00, 1331.21it/s]\n",
            "\n",
            "\u001b[1m-------------------------------- live log call ---------------------------------\u001b[0m\n",
            "\u001b[32mINFO    \u001b[0m test_surya:test_surya.py:254 GPU detected. Running the test on device 0.\n",
            "\u001b[32mINFO    \u001b[0m test_surya:test_surya.py:261 Surya FM: 366.19 M total parameters.\n",
            "\u001b[32mINFO    \u001b[0m test_surya:test_surya.py:267 Loaded weights.\n",
            "\u001b[32mINFO    \u001b[0m test_surya:test_surya.py:269 Starting inference run.\n",
            "\u001b[31mFAILED\u001b[0m\n",
            "\n",
            "=================================== FAILURES ===================================\n",
            "\u001b[31m\u001b[1m_____________________________ test_surya_20140107 ______________________________\u001b[0m\n",
            "\u001b[1m\u001b[31m.venv/lib/python3.12/site-packages/torch/utils/data/dataloader.py\u001b[0m:1285: in _try_get_data\n",
            "    \u001b[0mdata = \u001b[96mself\u001b[39;49;00m._data_queue.get(timeout=timeout)\u001b[90m\u001b[39;49;00m\n",
            "           ^^^^^^^^^^^^^^^^^^^^^^^^^^^^^^^^^^^^^\u001b[90m\u001b[39;49;00m\n",
            "\u001b[1m\u001b[31m/usr/lib/python3.12/queue.py\u001b[0m:180: in get\n",
            "    \u001b[0m\u001b[96mself\u001b[39;49;00m.not_empty.wait(remaining)\u001b[90m\u001b[39;49;00m\n",
            "\u001b[1m\u001b[31m/usr/lib/python3.12/threading.py\u001b[0m:359: in wait\n",
            "    \u001b[0mgotit = waiter.acquire(\u001b[94mTrue\u001b[39;49;00m, timeout)\u001b[90m\u001b[39;49;00m\n",
            "            ^^^^^^^^^^^^^^^^^^^^^^^^^^^^^\u001b[90m\u001b[39;49;00m\n",
            "\u001b[1m\u001b[31m.venv/lib/python3.12/site-packages/torch/utils/data/_utils/signal_handling.py\u001b[0m:73: in handler\n",
            "    \u001b[0m_error_if_any_worker_fails()\u001b[90m\u001b[39;49;00m\n",
            "\u001b[1m\u001b[31mE   RuntimeError: DataLoader worker (pid 8140) is killed by signal: Killed.\u001b[0m\n",
            "\n",
            "\u001b[33mThe above exception was the direct cause of the following exception:\u001b[0m\n",
            "\u001b[1m\u001b[31mtests/test_surya.py\u001b[0m:272: in test_surya_20140107\n",
            "    \u001b[0m\u001b[94mfor\u001b[39;49;00m batch_idx, (batch_data, batch_metadata) \u001b[95min\u001b[39;49;00m \u001b[96menumerate\u001b[39;49;00m(dataloader):\u001b[90m\u001b[39;49;00m\n",
            "                                                   ^^^^^^^^^^^^^^^^^^^^^\u001b[90m\u001b[39;49;00m\n",
            "\u001b[1m\u001b[31m.venv/lib/python3.12/site-packages/torch/utils/data/dataloader.py\u001b[0m:734: in __next__\n",
            "    \u001b[0mdata = \u001b[96mself\u001b[39;49;00m._next_data()\u001b[90m\u001b[39;49;00m\n",
            "           ^^^^^^^^^^^^^^^^^\u001b[90m\u001b[39;49;00m\n",
            "\u001b[1m\u001b[31m.venv/lib/python3.12/site-packages/torch/utils/data/dataloader.py\u001b[0m:1492: in _next_data\n",
            "    \u001b[0midx, data = \u001b[96mself\u001b[39;49;00m._get_data()\u001b[90m\u001b[39;49;00m\n",
            "                ^^^^^^^^^^^^^^^^\u001b[90m\u001b[39;49;00m\n",
            "\u001b[1m\u001b[31m.venv/lib/python3.12/site-packages/torch/utils/data/dataloader.py\u001b[0m:1444: in _get_data\n",
            "    \u001b[0msuccess, data = \u001b[96mself\u001b[39;49;00m._try_get_data()\u001b[90m\u001b[39;49;00m\n",
            "                    ^^^^^^^^^^^^^^^^^^^^\u001b[90m\u001b[39;49;00m\n",
            "\u001b[1m\u001b[31m.venv/lib/python3.12/site-packages/torch/utils/data/dataloader.py\u001b[0m:1298: in _try_get_data\n",
            "    \u001b[0m\u001b[94mraise\u001b[39;49;00m \u001b[96mRuntimeError\u001b[39;49;00m(\u001b[90m\u001b[39;49;00m\n",
            "\u001b[1m\u001b[31mE   RuntimeError: DataLoader worker (pid(s) 8140) exited unexpectedly\u001b[0m\n",
            "------------------------------ Captured log call -------------------------------\n",
            "\u001b[32mINFO    \u001b[0m test_surya:test_surya.py:254 GPU detected. Running the test on device 0.\n",
            "\u001b[32mINFO    \u001b[0m test_surya:test_surya.py:261 Surya FM: 366.19 M total parameters.\n",
            "\u001b[32mINFO    \u001b[0m test_surya:test_surya.py:267 Loaded weights.\n",
            "\u001b[32mINFO    \u001b[0m test_surya:test_surya.py:269 Starting inference run.\n",
            "\u001b[33m=============================== warnings summary ===============================\u001b[0m\n",
            ".venv/lib/python3.12/site-packages/timm/models/layers/__init__.py:48\n",
            "  /content/Surya/.venv/lib/python3.12/site-packages/timm/models/layers/__init__.py:48: FutureWarning: Importing from timm.models.layers is deprecated, please import via timm.layers\n",
            "    warnings.warn(f\"Importing from {__name__} is deprecated, please import via timm.layers\", FutureWarning)\n",
            "\n",
            "-- Docs: https://docs.pytest.org/en/stable/how-to/capture-warnings.html\n",
            "\u001b[36m\u001b[1m=========================== short test summary info ============================\u001b[0m\n",
            "\u001b[31mFAILED\u001b[0m tests/test_surya.py::\u001b[1mtest_surya_20140107\u001b[0m - RuntimeError: DataLoader worker (pid(s) 8140) exited unexpectedly\n",
            "\u001b[31m======================== \u001b[31m\u001b[1m1 failed\u001b[0m, \u001b[33m1 warning\u001b[0m\u001b[31m in 58.91s\u001b[0m\u001b[31m =========================\u001b[0m\n"
          ]
        }
      ]
    },
    {
      "cell_type": "code",
      "source": [
        "%cd Surya"
      ],
      "metadata": {
        "colab": {
          "base_uri": "https://localhost:8080/"
        },
        "id": "WDDqOK1lvZkj",
        "outputId": "e6f3f4a6-c8c5-48d1-e944-1fd0ba0b86ca"
      },
      "execution_count": 1,
      "outputs": [
        {
          "output_type": "stream",
          "name": "stdout",
          "text": [
            "/content/Surya\n"
          ]
        }
      ]
    },
    {
      "cell_type": "code",
      "source": [
        "!.venv/bin/python -m pytest"
      ],
      "metadata": {
        "colab": {
          "base_uri": "https://localhost:8080/"
        },
        "id": "09Xi2XcPvkJg",
        "outputId": "a12d96f1-1a7d-44cb-b9f6-b7185f8cecf8"
      },
      "execution_count": 3,
      "outputs": [
        {
          "output_type": "stream",
          "name": "stdout",
          "text": [
            "\u001b[1m============================= test session starts ==============================\u001b[0m\n",
            "platform linux -- Python 3.12.11, pytest-8.4.1, pluggy-1.6.0 -- /content/Surya/.venv/bin/python\n",
            "cachedir: .pytest_cache\n",
            "rootdir: /content/Surya\n",
            "configfile: pyproject.toml\n",
            "testpaths: tests\n",
            "collected 1 item                                                               \u001b[0m\n",
            "\n",
            "tests/test_surya.py::test_surya_20140107 \u001b[31mFAILED\u001b[0m\u001b[31m                          [100%]\u001b[0m\n",
            "\n",
            "=================================== FAILURES ===================================\n",
            "\u001b[31m\u001b[1m_____________________________ test_surya_20140107 ______________________________\u001b[0m\n",
            "\u001b[1m\u001b[31m.venv/lib/python3.12/site-packages/torch/utils/data/dataloader.py\u001b[0m:1285: in _try_get_data\n",
            "    \u001b[0mdata = \u001b[96mself\u001b[39;49;00m._data_queue.get(timeout=timeout)\u001b[90m\u001b[39;49;00m\n",
            "           ^^^^^^^^^^^^^^^^^^^^^^^^^^^^^^^^^^^^^\u001b[90m\u001b[39;49;00m\n",
            "\u001b[1m\u001b[31m/usr/lib/python3.12/queue.py\u001b[0m:180: in get\n",
            "    \u001b[0m\u001b[96mself\u001b[39;49;00m.not_empty.wait(remaining)\u001b[90m\u001b[39;49;00m\n",
            "\u001b[1m\u001b[31m/usr/lib/python3.12/threading.py\u001b[0m:359: in wait\n",
            "    \u001b[0mgotit = waiter.acquire(\u001b[94mTrue\u001b[39;49;00m, timeout)\u001b[90m\u001b[39;49;00m\n",
            "            ^^^^^^^^^^^^^^^^^^^^^^^^^^^^^\u001b[90m\u001b[39;49;00m\n",
            "\u001b[1m\u001b[31m.venv/lib/python3.12/site-packages/torch/utils/data/_utils/signal_handling.py\u001b[0m:73: in handler\n",
            "    \u001b[0m_error_if_any_worker_fails()\u001b[90m\u001b[39;49;00m\n",
            "\u001b[1m\u001b[31mE   RuntimeError: DataLoader worker (pid 6943) is killed by signal: Killed.\u001b[0m\n",
            "\n",
            "\u001b[33mThe above exception was the direct cause of the following exception:\u001b[0m\n",
            "\u001b[1m\u001b[31mtests/test_surya.py\u001b[0m:272: in test_surya_20140107\n",
            "    \u001b[0m\u001b[94mfor\u001b[39;49;00m batch_idx, (batch_data, batch_metadata) \u001b[95min\u001b[39;49;00m \u001b[96menumerate\u001b[39;49;00m(dataloader):\u001b[90m\u001b[39;49;00m\n",
            "                                                   ^^^^^^^^^^^^^^^^^^^^^\u001b[90m\u001b[39;49;00m\n",
            "\u001b[1m\u001b[31m.venv/lib/python3.12/site-packages/torch/utils/data/dataloader.py\u001b[0m:734: in __next__\n",
            "    \u001b[0mdata = \u001b[96mself\u001b[39;49;00m._next_data()\u001b[90m\u001b[39;49;00m\n",
            "           ^^^^^^^^^^^^^^^^^\u001b[90m\u001b[39;49;00m\n",
            "\u001b[1m\u001b[31m.venv/lib/python3.12/site-packages/torch/utils/data/dataloader.py\u001b[0m:1492: in _next_data\n",
            "    \u001b[0midx, data = \u001b[96mself\u001b[39;49;00m._get_data()\u001b[90m\u001b[39;49;00m\n",
            "                ^^^^^^^^^^^^^^^^\u001b[90m\u001b[39;49;00m\n",
            "\u001b[1m\u001b[31m.venv/lib/python3.12/site-packages/torch/utils/data/dataloader.py\u001b[0m:1444: in _get_data\n",
            "    \u001b[0msuccess, data = \u001b[96mself\u001b[39;49;00m._try_get_data()\u001b[90m\u001b[39;49;00m\n",
            "                    ^^^^^^^^^^^^^^^^^^^^\u001b[90m\u001b[39;49;00m\n",
            "\u001b[1m\u001b[31m.venv/lib/python3.12/site-packages/torch/utils/data/dataloader.py\u001b[0m:1298: in _try_get_data\n",
            "    \u001b[0m\u001b[94mraise\u001b[39;49;00m \u001b[96mRuntimeError\u001b[39;49;00m(\u001b[90m\u001b[39;49;00m\n",
            "\u001b[1m\u001b[31mE   RuntimeError: DataLoader worker (pid(s) 6943) exited unexpectedly\u001b[0m\n",
            "---------------------------- Captured stderr setup -----------------------------\n",
            "Fetching 3 files: 100%|██████████| 3/3 [00:00<00:00, 2255.00it/s]\n",
            "Fetching 23 files: 100%|██████████| 23/23 [00:00<00:00, 1368.98it/s]\n",
            "------------------------------ Captured log call -------------------------------\n",
            "\u001b[32mINFO    \u001b[0m test_surya:test_surya.py:254 GPU detected. Running the test on device 0.\n",
            "\u001b[32mINFO    \u001b[0m test_surya:test_surya.py:261 Surya FM: 366.19 M total parameters.\n",
            "\u001b[32mINFO    \u001b[0m test_surya:test_surya.py:267 Loaded weights.\n",
            "\u001b[32mINFO    \u001b[0m test_surya:test_surya.py:269 Starting inference run.\n",
            "\u001b[33m=============================== warnings summary ===============================\u001b[0m\n",
            ".venv/lib/python3.12/site-packages/timm/models/layers/__init__.py:48\n",
            "  /content/Surya/.venv/lib/python3.12/site-packages/timm/models/layers/__init__.py:48: FutureWarning: Importing from timm.models.layers is deprecated, please import via timm.layers\n",
            "    warnings.warn(f\"Importing from {__name__} is deprecated, please import via timm.layers\", FutureWarning)\n",
            "\n",
            "-- Docs: https://docs.pytest.org/en/stable/how-to/capture-warnings.html\n",
            "\u001b[36m\u001b[1m=========================== short test summary info ============================\u001b[0m\n",
            "\u001b[31mFAILED\u001b[0m tests/test_surya.py::\u001b[1mtest_surya_20140107\u001b[0m - RuntimeError: DataLoader worker (pid(s) 6943) exited unexpectedly\n",
            "\u001b[31m=================== \u001b[31m\u001b[1m1 failed\u001b[0m, \u001b[33m1 warning\u001b[0m\u001b[31m in 62.81s (0:01:02)\u001b[0m\u001b[31m ====================\u001b[0m\n"
          ]
        }
      ]
    },
    {
      "cell_type": "code",
      "source": [
        "##Resolver error"
      ],
      "metadata": {
        "id": "yviE1En20UYA"
      },
      "execution_count": null,
      "outputs": []
    }
  ]
}